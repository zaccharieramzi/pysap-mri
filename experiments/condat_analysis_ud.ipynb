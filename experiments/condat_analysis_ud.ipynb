{
 "cells": [
  {
   "cell_type": "code",
   "execution_count": 1,
   "metadata": {
    "scrolled": false
   },
   "outputs": [
    {
     "name": "stdout",
     "output_type": "stream",
     "text": [
      "\n",
      "                 .|'''|       /.\\      '||'''|,\n",
      "                 ||          // \\\\      ||   ||\n",
      "'||''|, '||  ||` `|'''|,    //...\\\\     ||...|'\n",
      " ||  ||  `|..||   .   ||   //     \\\\    ||\n",
      " ||..|'      ||   |...|' .//       \\\\. .||\n",
      " ||       ,  |'\n",
      ".||        ''\n",
      "\n",
      "Package version: 0.0.3\n",
      "\n",
      "License: CeCILL-B\n",
      "\n",
      "Authors: \n",
      "\n",
      "Antoine Grigis <antoine.grigis@cea.fr>\n",
      "Samuel Farrens <samuel.farrens@cea.fr>\n",
      "Jean-Luc Starck <jl.stark@cea.fr>\n",
      "Philippe Ciuciu <philippe.ciuciu@cea.fr>\n",
      "\n",
      "Dependencies: \n",
      "\n",
      "scipy          : >=1.0.0   - required | 1.2.1     installed\n",
      "numpy          : >=1.11.0  - required | 1.16.2    installed\n",
      "matplotlib     : >=2.1.2   - required | 3.0.3     installed\n",
      "future         : >=0.16.0  - required | 0.17.1    installed\n",
      "astropy        : ==2.0.8   - required | 2.0.8     installed\n",
      "nibabel        : >=2.1.0   - required | 2.4.0     installed\n",
      "pyqtgraph      : >=0.10.0  - required | 0.10.0    installed\n",
      "progressbar    : >=3.34.3  - required | 3.39.3    installed\n",
      "modopt         : >=1.1.5   - required | 1.3.0     installed\n",
      "scikit-learn   : >=0.19.1  - required | ?         installed\n",
      "PyWavelets     : >=1.0.0   - required | ?         installed\n",
      "pysparse       : >=0.0.1   - required | 0.0.2     installed\n",
      "\n"
     ]
    }
   ],
   "source": [
    "%load_ext autoreload\n",
    "%autoreload 2\n",
    "%matplotlib nbagg\n",
    "\n",
    "# Third party import\n",
    "import matplotlib.pyplot as plt\n",
    "import numpy as np\n",
    "from scipy.ndimage import imread\n",
    "from tqdm import tqdm_notebook\n",
    "\n",
    "# Package import\n",
    "from modopt.math.metrics import ssim\n",
    "import pysap\n",
    "from pysap.data import get_sample_data\n",
    "from mri.numerics.linear import WaveletUD\n",
    "from pysap.numerics.fourier import FFT2\n",
    "from pysap.numerics.fourier import NFFT\n",
    "from pysap.numerics.gradient import GradAnalysis2\n",
    "from modopt.opt.proximity import SparseThreshold\n",
    "from mri.numerics.reconstruct import sparse_rec_condatvu\n",
    "from pysap.numerics.utils import convert_mask_to_locations"
   ]
  },
  {
   "cell_type": "markdown",
   "metadata": {},
   "source": [
    "#  Loading input data"
   ]
  },
  {
   "cell_type": "code",
   "execution_count": 2,
   "metadata": {},
   "outputs": [],
   "source": [
    "image = get_sample_data(\"mri-slice-nifti\")\n",
    "original_image_data = np.copy(image.data)\n",
    "image.data += np.random.randn(*image.shape) * 20.\n",
    "image.data = image.data.astype(np.complex128)\n",
    "mask = get_sample_data(\"mri-mask\")"
   ]
  },
  {
   "cell_type": "code",
   "execution_count": 3,
   "metadata": {},
   "outputs": [],
   "source": [
    "non_cartesian = True\n",
    "opt_results = {}"
   ]
  },
  {
   "cell_type": "markdown",
   "metadata": {},
   "source": [
    "# Generate the kspace \n",
    "From the 2D brain slice and the acquistion mask, we generate the acquisition measurments, the observed kspace. We then reconstruct the zero order solution."
   ]
  },
  {
   "cell_type": "code",
   "execution_count": 4,
   "metadata": {},
   "outputs": [],
   "source": [
    "# Generate the subsampled kspace\n",
    "if non_cartesian:\n",
    "    kspace_loc = convert_mask_to_locations(mask.data)\n",
    "    fourier_op = NFFT(samples=kspace_loc, shape=image.shape)\n",
    "    kspace_data = fourier_op.op(image.data)\n",
    "\n",
    "    # Zero order solution\n",
    "    image_rec0 = pysap.Image(data=fourier_op.adj_op(kspace_data), metadata=image.metadata)\n",
    "else:\n",
    "    kspace_mask = np.fft.ifftshift(mask.data)\n",
    "    kspace_loc = convert_mask_to_locations(kspace_mask)\n",
    "    fourier_op = FFT2(\n",
    "        samples=kspace_loc,\n",
    "        shape=data.shape)\n",
    "    kspace_data = fourier_op.op(image.data)\n",
    "    \n",
    "    # Zero order solution\n",
    "    image_rec0 = pysap.Image(data=fourier_op.adj_op(kspace_data), metadata=image.metadata)"
   ]
  },
  {
   "cell_type": "markdown",
   "metadata": {},
   "source": [
    "# Operators"
   ]
  },
  {
   "cell_type": "code",
   "execution_count": 5,
   "metadata": {},
   "outputs": [],
   "source": [
    "nb_scales = 4\n",
    "wavelet_id = 24"
   ]
  },
  {
   "cell_type": "code",
   "execution_count": 6,
   "metadata": {},
   "outputs": [
    {
     "name": "stderr",
     "output_type": "stream",
     "text": [
      "WARNING: Making input data immutable.\n"
     ]
    }
   ],
   "source": [
    "linear_op = WaveletUD(\n",
    "    nb_scale=nb_scales,\n",
    "    wavelet_id=wavelet_id,\n",
    "    set_norm=1.1,\n",
    ")\n",
    "\n",
    "gradient_op = GradAnalysis2(\n",
    "    data=kspace_data,\n",
    "    fourier_op=fourier_op)\n",
    "\n",
    "# Define the proximity dual/primal operator\n",
    "prox_op = SparseThreshold(linear_op, None, thresh_type=\"soft\")\n",
    "cost_op = None"
   ]
  },
  {
   "cell_type": "markdown",
   "metadata": {},
   "source": [
    "# Condat optimization\n",
    "We now want to refine the zero order solution using a Condat optimization."
   ]
  },
  {
   "cell_type": "code",
   "execution_count": 17,
   "metadata": {},
   "outputs": [],
   "source": [
    "def objective_cost(x):\n",
    "    return data_fidelity(x) + sparsity(x)\n",
    "\n",
    "def sparsity(x):\n",
    "    return mu * np.sum(np.abs(linear_op.op(x)))\n",
    "\n",
    "def data_fidelity(x):\n",
    "    return 0.5 * np.linalg.norm(fourier_op.op(x) - kspace_data)**2"
   ]
  },
  {
   "cell_type": "code",
   "execution_count": 18,
   "metadata": {},
   "outputs": [],
   "source": [
    "def nrmse(x):\n",
    "    return np.linalg.norm(x - original_image_data) / np.mean(original_image_data)"
   ]
  },
  {
   "cell_type": "code",
   "execution_count": 19,
   "metadata": {},
   "outputs": [],
   "source": [
    "metrics_ = {\n",
    "    \"cost\": {\"metric\": objective_cost, \"mapping\": {\"x_new\": \"x\"}, \"cst_kwargs\": {}, \"early_stopping\": False},\n",
    "    \"nrmse\": {\"metric\": nrmse, \"mapping\": {\"x_new\": \"x\"}, \"cst_kwargs\": {}, \"early_stopping\": False},\n",
    "}"
   ]
  },
  {
   "cell_type": "code",
   "execution_count": 20,
   "metadata": {},
   "outputs": [],
   "source": [
    "mu = 80"
   ]
  },
  {
   "cell_type": "code",
   "execution_count": 21,
   "metadata": {},
   "outputs": [],
   "source": [
    "max_iter = 50\n",
    "convergence_pot = max_iter >= 500"
   ]
  },
  {
   "cell_type": "code",
   "execution_count": 22,
   "metadata": {},
   "outputs": [
    {
     "name": "stdout",
     "output_type": "stream",
     "text": [
      "\n",
      "   ____   U  ___ u  _   _    ____       _       _____      __     __    _   _\n",
      "U /\"___|   \\/\"_ \\/ | \\ |\"|  |  _\"\\  U  /\"\\  u  |_ \" _|     \\ \\   /\"/uU |\"|u| |\n",
      "\\| | u     | | | |<|  \\| |>/| | | |  \\/ _ \\/     | |        \\ \\ / //  \\| |\\| |\n",
      " | |/__.-,_| |_| |U| |\\  |uU| |_| |\\ / ___ \\    /| |\\       /\\ V /_,-. | |_| |\n",
      "  \\____|\\_)-\\___/  |_| \\_|  |____/ u/_/   \\_\\  u |_|U      U  \\_/-(_/ <<\\___/\n",
      " _// \\\\      \\\\    ||   \\\\,-.|||_    \\\\    >>  _// \\\\_       //      (__) )(\n",
      "(__)(__)    (__)   (_\")  (_/(__)_)  (__)  (__)(__) (__)     (__)         (__)\n",
      "    \n",
      " - mu:  80\n",
      " - lipschitz constant:  4.39999999999992\n",
      " - tau:  0.06993006988116797\n",
      " - sigma:  10\n",
      " - rho:  1.0\n",
      " - std:  0.1\n",
      " - 1/tau - sigma||L||^2 >= beta/2:  True\n",
      " - data:  (512, 512)\n",
      " - wavelet:  <mri.reconstruct.linear.WaveletUD object at 0x7f38fb9e7630> - 4\n",
      " - max iterations:  50\n",
      " - number of reweights:  0\n",
      " - primal variable shape:  (512, 512)\n",
      " - dual variable shape:  (10, 512, 512)\n",
      "----------------------------------------\n",
      "Starting optimization...\n"
     ]
    },
    {
     "name": "stderr",
     "output_type": "stream",
     "text": [
      "100% (50 of 50) |########################| Elapsed Time: 0:02:30 Time:  0:02:30\n"
     ]
    },
    {
     "name": "stdout",
     "output_type": "stream",
     "text": [
      " - converged:  False\n",
      "Done.\n",
      "Execution time:  221.46993  seconds\n",
      "----------------------------------------\n"
     ]
    }
   ],
   "source": [
    "# Start the FISTA reconstruction\n",
    "cost_op = None\n",
    "x_final, transform, costs, metrics = sparse_rec_condatvu(\n",
    "    gradient_op,\n",
    "    linear_op,\n",
    "    prox_op,\n",
    "    cost_op,\n",
    "    std_est_method='dual',\n",
    "    std_est=0.1,\n",
    "    mu=mu,\n",
    "    sigma=10,\n",
    "    nb_of_reweights=0,\n",
    "    max_nb_of_iter=max_iter,\n",
    "    metrics=metrics_,\n",
    "    metric_call_period=20,\n",
    "    verbose=1,\n",
    ")\n",
    "image_rec = pysap.Image(data=np.abs(x_final))"
   ]
  },
  {
   "cell_type": "code",
   "execution_count": null,
   "metadata": {},
   "outputs": [],
   "source": []
  }
 ],
 "metadata": {
  "kernelspec": {
   "display_name": "Python 3",
   "language": "python",
   "name": "python3"
  },
  "language_info": {
   "codemirror_mode": {
    "name": "ipython",
    "version": 3
   },
   "file_extension": ".py",
   "mimetype": "text/x-python",
   "name": "python",
   "nbconvert_exporter": "python",
   "pygments_lexer": "ipython3",
   "version": "3.6.7"
  }
 },
 "nbformat": 4,
 "nbformat_minor": 2
}
