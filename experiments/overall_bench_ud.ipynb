{
 "cells": [
  {
   "cell_type": "markdown",
   "metadata": {},
   "source": [
    "The idea of this notebook is to provide one plot showing that greedy faasta (combining Gale and Jingwei's ideas) is still slower than Condat for an analysis reconstruction problem with undecimated wavelets."
   ]
  },
  {
   "cell_type": "code",
   "execution_count": 1,
   "metadata": {
    "scrolled": false
   },
   "outputs": [
    {
     "name": "stdout",
     "output_type": "stream",
     "text": [
      "\n",
      "                 .|'''|       /.\\      '||'''|,\n",
      "                 ||          // \\\\      ||   ||\n",
      "'||''|, '||  ||` `|'''|,    //...\\\\     ||...|'\n",
      " ||  ||  `|..||   .   ||   //     \\\\    ||\n",
      " ||..|'      ||   |...|' .//       \\\\. .||\n",
      " ||       ,  |'\n",
      ".||        ''\n",
      "\n",
      "Package version: 0.0.3\n",
      "\n",
      "License: CeCILL-B\n",
      "\n",
      "Authors: \n",
      "\n",
      "Antoine Grigis <antoine.grigis@cea.fr>\n",
      "Samuel Farrens <samuel.farrens@cea.fr>\n",
      "Jean-Luc Starck <jl.stark@cea.fr>\n",
      "Philippe Ciuciu <philippe.ciuciu@cea.fr>\n",
      "\n",
      "Dependencies: \n",
      "\n",
      "scipy          : >=0.18.0  - required | 1.3.0     installed\n",
      "numpy          : >=1.11.0  - required | 1.16.3    installed\n",
      "matplotlib     : >=2.0.0   - required | 3.1.0     installed\n",
      "future         : >=0.16.0  - required | 0.17.1    installed\n",
      "astropy        : ==2.0.8   - required | 2.0.8     installed\n",
      "nibabel        : >=2.1.0   - required | 2.4.0     installed\n",
      "pyqtgraph      : >=0.10.0  - required | 0.10.0    installed\n",
      "progressbar2   : >=3.34.3  - required | ?         installed\n",
      "modopt         : >=1.1.5   - required | 1.3.1     installed\n",
      "scikit-learn   : >=0.19.1  - required | ?         installed\n",
      "pywt           : >=1.0.0   - required | 1.0.3     installed\n",
      "pybind11       : >=2.2.4   - required | 2.2.4     installed\n",
      "pysparse       : >=0.0.1   - required | 0.1.0     installed\n",
      "\n"
     ]
    }
   ],
   "source": [
    "%load_ext autoreload\n",
    "%autoreload 2\n",
    "%matplotlib nbagg\n",
    "\n",
    "# Third party import\n",
    "import matplotlib.pyplot as plt\n",
    "import numpy as np\n",
    "import scipy.io\n",
    "from tqdm import tqdm_notebook\n",
    "\n",
    "# Package import\n",
    "from modopt.math.metrics import ssim\n",
    "from modopt.opt.linear import Identity\n",
    "from modopt.opt.proximity import SparseThreshold, LinearCompositionProx, LinearCompositionIterativeProx\n",
    "from mri.numerics.fourier import FFT2, NFFT\n",
    "from mri.numerics.gradient import GradAnalysis2\n",
    "from mri.numerics.linear import Wavelet2, WaveletUD\n",
    "from mri.numerics.reconstruct import sparse_rec_fista, sparse_rec_condatvu\n",
    "from mri.numerics.utils import convert_mask_to_locations\n",
    "import pysap\n",
    "from pysap.data import get_sample_data\n",
    "\n",
    "np.random.seed(0)"
   ]
  },
  {
   "cell_type": "markdown",
   "metadata": {},
   "source": [
    "#  Loading input data"
   ]
  },
  {
   "cell_type": "code",
   "execution_count": 2,
   "metadata": {},
   "outputs": [],
   "source": [
    "image = get_sample_data(\"mri-slice-nifti\")\n",
    "original_image_data = np.copy(image.data)\n",
    "image.data += np.random.randn(*image.shape) * 20.\n",
    "image.data = image.data.astype(np.complex128)\n",
    "mask = get_sample_data(\"mri-mask\")"
   ]
  },
  {
   "cell_type": "code",
   "execution_count": 3,
   "metadata": {},
   "outputs": [],
   "source": [
    "non_cartesian = True\n",
    "sparkling = True"
   ]
  },
  {
   "cell_type": "markdown",
   "metadata": {},
   "source": [
    "# Generate the kspace \n",
    "From the 2D brain slice and the acquistion mask, we generate the acquisition measurments, the observed kspace. We then reconstruct the zero order solution."
   ]
  },
  {
   "cell_type": "code",
   "execution_count": 4,
   "metadata": {},
   "outputs": [],
   "source": [
    "# potential path to sparkling trajectory\n",
    "sparkling_traj_file_path = '../personal_experiments/2019-Mar-01_N512_nc34_ns3073_OS1_decim64_decay2_tau0.75_nrevol1/samples_SPARKLING_N512_nc34x3073_OS1.mat'"
   ]
  },
  {
   "cell_type": "code",
   "execution_count": 5,
   "metadata": {},
   "outputs": [
    {
     "name": "stderr",
     "output_type": "stream",
     "text": [
      "/volatile/home/Zaccharie/workspace/pysap-mri/mri/reconstruct/fourier.py:172: UserWarning: Samples will be normalized between [-0.5; 0.5[\n",
      "  warnings.warn(\"Samples will be normalized between [-0.5; 0.5[\")\n",
      "/volatile/home/Zaccharie/workspace/pysap-mri/mri/reconstruct/utils.py:103: UserWarning: Frequency equal to 0.5 will be put in -0.5\n",
      "  warnings.warn(\"Frequency equal to 0.5 will be put in -0.5\")\n"
     ]
    }
   ],
   "source": [
    "# Generate the subsampled kspace\n",
    "if non_cartesian:\n",
    "    if sparkling:\n",
    "        kspace_loc = scipy.io.loadmat(sparkling_traj_file_path)['samples']\n",
    "    else:\n",
    "        kspace_loc = convert_mask_to_locations(mask.data)\n",
    "    fourier_op = NFFT(samples=kspace_loc, shape=image.shape)\n",
    "    kspace_data = fourier_op.op(image.data)\n",
    "\n",
    "    # Zero order solution\n",
    "    image_rec0 = pysap.Image(data=fourier_op.adj_op(kspace_data), metadata=image.metadata)\n",
    "else:\n",
    "    kspace_mask = np.fft.ifftshift(mask.data)\n",
    "    kspace_loc = convert_mask_to_locations(kspace_mask)\n",
    "    fourier_op = FFT2(samples=kspace_loc, shape=image.shape)\n",
    "    kspace_data = fourier_op.op(image.data)\n",
    "\n",
    "    # Zero order solution\n",
    "    image_rec0 = pysap.Image(data=fourier_op.adj_op(kspace_data), metadata=image.metadata)"
   ]
  },
  {
   "cell_type": "markdown",
   "metadata": {},
   "source": [
    "# Operators"
   ]
  },
  {
   "cell_type": "code",
   "execution_count": 6,
   "metadata": {},
   "outputs": [],
   "source": [
    "nb_scales = 4\n",
    "wavelet_id = 2"
   ]
  },
  {
   "cell_type": "code",
   "execution_count": 7,
   "metadata": {},
   "outputs": [
    {
     "name": "stderr",
     "output_type": "stream",
     "text": [
      "\u001b[33mWARNING\u001b[0m: Making input data immutable.\n"
     ]
    }
   ],
   "source": [
    "linear_op = WaveletUD(\n",
    "    nb_scale=nb_scales,\n",
    "    wavelet_id=wavelet_id,\n",
    "    coarse=False,\n",
    "    set_norm=1.1,\n",
    ")\n",
    "\n",
    "gradient_op = GradAnalysis2(\n",
    "    data=kspace_data,\n",
    "    fourier_op=fourier_op)\n",
    "\n",
    "prox_op_iterative = LinearCompositionIterativeProx(\n",
    "    linear_op=linear_op,\n",
    "    prox_op=SparseThreshold(Identity(), None, thresh_type=\"soft\"),\n",
    "    max_precision_level=150,\n",
    "    solver_sigma=10.0,\n",
    ")\n",
    "\n",
    "prox_op_condat = SparseThreshold(linear_op, None, thresh_type=\"soft\")\n",
    "\n",
    "cost_op = None"
   ]
  },
  {
   "cell_type": "markdown",
   "metadata": {},
   "source": [
    "# FAASTA optimization\n",
    "We now want to refine the zero order solution using a FAASTA optimization."
   ]
  },
  {
   "cell_type": "code",
   "execution_count": 8,
   "metadata": {},
   "outputs": [],
   "source": [
    "def objective_cost(x):\n",
    "    return data_fidelity(x) + sparsity(x)\n",
    "\n",
    "def sparsity(x):\n",
    "    return mu * np.sum(np.abs(linear_op.op(x)))\n",
    "\n",
    "def data_fidelity(x):\n",
    "    return 0.5 * np.linalg.norm(fourier_op.op(x) - kspace_data)**2"
   ]
  },
  {
   "cell_type": "code",
   "execution_count": 9,
   "metadata": {},
   "outputs": [],
   "source": [
    "def nrmse(x):\n",
    "    return np.linalg.norm(x - original_image_data) / np.mean(original_image_data)"
   ]
  },
  {
   "cell_type": "code",
   "execution_count": 10,
   "metadata": {},
   "outputs": [],
   "source": [
    "metrics_ = {\n",
    "    \"cost\": {\"metric\": objective_cost, \"mapping\": {\"x_new\": \"x\"}, \"cst_kwargs\": {}, \"early_stopping\": False},\n",
    "    \"nrmse\": {\"metric\": nrmse, \"mapping\": {\"x_new\": \"x\"}, \"cst_kwargs\": {}, \"early_stopping\": False},\n",
    "}"
   ]
  },
  {
   "cell_type": "code",
   "execution_count": 11,
   "metadata": {},
   "outputs": [],
   "source": [
    "mu = 15.0"
   ]
  },
  {
   "cell_type": "code",
   "execution_count": 12,
   "metadata": {},
   "outputs": [],
   "source": [
    "max_iter = 1000"
   ]
  },
  {
   "cell_type": "code",
   "execution_count": 13,
   "metadata": {
    "scrolled": true
   },
   "outputs": [
    {
     "name": "stdout",
     "output_type": "stream",
     "text": [
      "\n",
      "  _____             ____     _____      _\n",
      " |\" ___|    ___    / __\"| u |_ \" _| U  /\"\\  u\n",
      "U| |_  u   |_\"_|  <\\___ \\/    | |    \\/ _ \\/\n",
      "\\|  _|/     | |    u___) |   /| |\\   / ___ \\\\\n",
      " |_|      U/| |\\u  |____/>> u |_|U  /_/   \\_\\\\\n",
      " )(\\\\\\,-.-,_|___|_,-.)(  (__)_// \\\\\\_  \\\\\\    >>\n",
      "(__)(_/ \\_)-' '-(_/(__)    (__) (__)(__)  (__)\n",
      "    \n",
      " - mu:  15.0\n",
      " - lipschitz constant:  95.5108226538341\n",
      " - data:  (512, 512)\n",
      " - max iterations:  1000\n",
      " - image variable shape:  (512, 512)\n",
      " - alpha variable shape:  (512, 512)\n",
      "----------------------------------------\n",
      "Starting optimization...\n"
     ]
    },
    {
     "name": "stderr",
     "output_type": "stream",
     "text": [
      "\u001b[33mWARNING\u001b[0m: Making input data immutable.\n",
      "100% (5 of 5) |##########################| Elapsed Time: 0:00:01 Time:  0:00:01\n",
      "N/A% (0 of 1000) |                       | Elapsed Time: 0:00:00 ETA:  --:--:--\u001b[33mWARNING\u001b[0m: Making input data immutable.\n",
      "100% (5 of 5) |##########################| Elapsed Time: 0:00:01 Time:  0:00:01\n",
      "  0% (1 of 1000) |                       | Elapsed Time: 0:00:02 ETA:   0:40:14\u001b[33mWARNING\u001b[0m: Making input data immutable.\n",
      "100% (5 of 5) |##########################| Elapsed Time: 0:00:01 Time:  0:00:01\n",
      "  0% (2 of 1000) |                       | Elapsed Time: 0:00:04 ETA:   0:40:30\u001b[33mWARNING\u001b[0m: Making input data immutable.\n",
      "100% (5 of 5) |##########################| Elapsed Time: 0:00:01 Time:  0:00:01\n",
      "  0% (3 of 1000) |                       | Elapsed Time: 0:00:07 ETA:   0:40:12\u001b[33mWARNING\u001b[0m: Making input data immutable.\n",
      "100% (5 of 5) |##########################| Elapsed Time: 0:00:01 Time:  0:00:01\n",
      "  0% (4 of 1000) |                       | Elapsed Time: 0:00:09 ETA:   0:39:43\u001b[33mWARNING\u001b[0m: Making input data immutable.\n",
      "100% (5 of 5) |##########################| Elapsed Time: 0:00:01 Time:  0:00:01\n",
      "  0% (5 of 1000) |                       | Elapsed Time: 0:00:12 ETA:   0:41:21\u001b[33mWARNING\u001b[0m: Making input data immutable.\n",
      "100% (5 of 5) |##########################| Elapsed Time: 0:00:01 Time:  0:00:01\n",
      "  0% (6 of 1000) |                       | Elapsed Time: 0:00:14 ETA:   0:40:04\u001b[33mWARNING\u001b[0m: Making input data immutable.\n",
      "100% (5 of 5) |##########################| Elapsed Time: 0:00:01 Time:  0:00:01\n",
      "  0% (7 of 1000) |                       | Elapsed Time: 0:00:16 ETA:   0:39:05\u001b[33mWARNING\u001b[0m: Making input data immutable.\n",
      "100% (5 of 5) |##########################| Elapsed Time: 0:00:01 Time:  0:00:01\n",
      "  0% (8 of 1000) |                       | Elapsed Time: 0:00:19 ETA:   0:37:14\u001b[33mWARNING\u001b[0m: Making input data immutable.\n",
      "100% (5 of 5) |##########################| Elapsed Time: 0:00:01 Time:  0:00:01\n",
      "  0% (9 of 1000) |                       | Elapsed Time: 0:00:21 ETA:   0:36:58\u001b[33mWARNING\u001b[0m: Making input data immutable.\n",
      "100% (5 of 5) |##########################| Elapsed Time: 0:00:01 Time:  0:00:01\n",
      "  1% (10 of 1000) |                      | Elapsed Time: 0:00:23 ETA:   0:37:39\u001b[33mWARNING\u001b[0m: Making input data immutable.\n",
      "100% (5 of 5) |##########################| Elapsed Time: 0:00:01 Time:  0:00:01\n",
      "  1% (11 of 1000) |                      | Elapsed Time: 0:00:26 ETA:   0:38:47\u001b[33mWARNING\u001b[0m: Making input data immutable.\n",
      "100% (5 of 5) |##########################| Elapsed Time: 0:00:01 Time:  0:00:01\n",
      "  1% (12 of 1000) |                      | Elapsed Time: 0:00:28 ETA:   0:39:31\u001b[33mWARNING\u001b[0m: Making input data immutable.\n",
      "100% (5 of 5) |##########################| Elapsed Time: 0:00:01 Time:  0:00:01\n",
      "  1% (13 of 1000) |                      | Elapsed Time: 0:00:30 ETA:   0:39:27\u001b[33mWARNING\u001b[0m: Making input data immutable.\n",
      "100% (5 of 5) |##########################| Elapsed Time: 0:00:01 Time:  0:00:01\n",
      "  1% (14 of 1000) |                      | Elapsed Time: 0:00:33 ETA:   0:39:17\u001b[33mWARNING\u001b[0m: Making input data immutable.\n",
      "100% (5 of 5) |##########################| Elapsed Time: 0:00:01 Time:  0:00:01\n",
      "  1% (15 of 1000) |                      | Elapsed Time: 0:00:35 ETA:   0:40:26\u001b[33mWARNING\u001b[0m: Making input data immutable.\n",
      "100% (5 of 5) |##########################| Elapsed Time: 0:00:01 Time:  0:00:01\n",
      "  1% (16 of 1000) |                      | Elapsed Time: 0:00:38 ETA:   0:40:11\u001b[33mWARNING\u001b[0m: Making input data immutable.\n",
      "100% (5 of 5) |##########################| Elapsed Time: 0:00:01 Time:  0:00:01\n",
      "  1% (17 of 1000) |                      | Elapsed Time: 0:00:40 ETA:   0:40:05\u001b[33mWARNING\u001b[0m: Making input data immutable.\n",
      "100% (5 of 5) |##########################| Elapsed Time: 0:00:01 Time:  0:00:01\n",
      "  1% (18 of 1000) |                      | Elapsed Time: 0:00:43 ETA:   0:39:13\u001b[33mWARNING\u001b[0m: Making input data immutable.\n",
      "100% (5 of 5) |##########################| Elapsed Time: 0:00:01 Time:  0:00:01\n",
      "  1% (19 of 1000) |                      | Elapsed Time: 0:00:45 ETA:   0:39:22\u001b[33mWARNING\u001b[0m: Making input data immutable.\n",
      "100% (5 of 5) |##########################| Elapsed Time: 0:00:01 Time:  0:00:01\n",
      "  2% (20 of 1000) |                      | Elapsed Time: 0:00:47 ETA:   0:39:36\u001b[33mWARNING\u001b[0m: Making input data immutable.\n",
      "100% (5 of 5) |##########################| Elapsed Time: 0:00:01 Time:  0:00:01\n",
      "  2% (21 of 1000) |                      | Elapsed Time: 0:00:50 ETA:   0:38:05\u001b[33mWARNING\u001b[0m: Making input data immutable.\n",
      "100% (5 of 5) |##########################| Elapsed Time: 0:00:01 Time:  0:00:01\n",
      "  2% (22 of 1000) |                      | Elapsed Time: 0:00:52 ETA:   0:37:41\u001b[33mWARNING\u001b[0m: Making input data immutable.\n",
      "100% (5 of 5) |##########################| Elapsed Time: 0:00:01 Time:  0:00:01\n",
      "  2% (23 of 1000) |                      | Elapsed Time: 0:00:54 ETA:   0:38:55\u001b[33mWARNING\u001b[0m: Making input data immutable.\n",
      "100% (5 of 5) |##########################| Elapsed Time: 0:00:01 Time:  0:00:01\n",
      "  2% (24 of 1000) |                      | Elapsed Time: 0:00:57 ETA:   0:37:54\u001b[33mWARNING\u001b[0m: Making input data immutable.\n",
      "100% (5 of 5) |##########################| Elapsed Time: 0:00:01 Time:  0:00:01\n",
      "  2% (25 of 1000) |                      | Elapsed Time: 0:00:59 ETA:   0:36:52\u001b[33mWARNING\u001b[0m: Making input data immutable.\n",
      "100% (5 of 5) |##########################| Elapsed Time: 0:00:01 Time:  0:00:01\n",
      "  2% (26 of 1000) |                      | Elapsed Time: 0:01:01 ETA:   0:36:13\u001b[33mWARNING\u001b[0m: Making input data immutable.\n",
      "100% (5 of 5) |##########################| Elapsed Time: 0:00:01 Time:  0:00:01\n",
      "  2% (27 of 1000) |                      | Elapsed Time: 0:01:03 ETA:   0:36:37\u001b[33mWARNING\u001b[0m: Making input data immutable.\n",
      "100% (5 of 5) |##########################| Elapsed Time: 0:00:01 Time:  0:00:01\n",
      "  2% (28 of 1000) |                      | Elapsed Time: 0:01:06 ETA:   0:35:25\u001b[33mWARNING\u001b[0m: Making input data immutable.\n",
      "100% (5 of 5) |##########################| Elapsed Time: 0:00:01 Time:  0:00:01\n",
      "  2% (29 of 1000) |                      | Elapsed Time: 0:01:08 ETA:   0:36:51\u001b[33mWARNING\u001b[0m: Making input data immutable.\n",
      "100% (5 of 5) |##########################| Elapsed Time: 0:00:01 Time:  0:00:01\n",
      "  3% (30 of 1000) |                      | Elapsed Time: 0:01:10 ETA:   0:36:35\u001b[33mWARNING\u001b[0m: Making input data immutable.\n",
      "100% (5 of 5) |##########################| Elapsed Time: 0:00:01 Time:  0:00:01\n",
      "  3% (31 of 1000) |                      | Elapsed Time: 0:01:13 ETA:   0:38:37\u001b[33mWARNING\u001b[0m: Making input data immutable.\n",
      "100% (5 of 5) |##########################| Elapsed Time: 0:00:01 Time:  0:00:01\n",
      "  3% (32 of 1000) |                      | Elapsed Time: 0:01:15 ETA:   0:38:30\u001b[33mWARNING\u001b[0m: Making input data immutable.\n",
      "100% (5 of 5) |##########################| Elapsed Time: 0:00:01 Time:  0:00:01\n",
      "  3% (33 of 1000) |                      | Elapsed Time: 0:01:17 ETA:   0:37:25\u001b[33mWARNING\u001b[0m: Making input data immutable.\n",
      "100% (5 of 5) |##########################| Elapsed Time: 0:00:01 Time:  0:00:01\n",
      "  3% (34 of 1000) |                      | Elapsed Time: 0:01:20 ETA:   0:37:41\u001b[33mWARNING\u001b[0m: Making input data immutable.\n",
      "100% (5 of 5) |##########################| Elapsed Time: 0:00:01 Time:  0:00:01\n",
      "  3% (35 of 1000) |                      | Elapsed Time: 0:01:22 ETA:   0:36:40\u001b[33mWARNING\u001b[0m: Making input data immutable.\n",
      "100% (5 of 5) |##########################| Elapsed Time: 0:00:01 Time:  0:00:01\n",
      "  3% (36 of 1000) |                      | Elapsed Time: 0:01:24 ETA:   0:35:45\u001b[33mWARNING\u001b[0m: Making input data immutable.\n",
      "100% (5 of 5) |##########################| Elapsed Time: 0:00:01 Time:  0:00:01\n",
      "  3% (37 of 1000) |                      | Elapsed Time: 0:01:26 ETA:   0:36:55\u001b[33mWARNING\u001b[0m: Making input data immutable.\n",
      "100% (5 of 5) |##########################| Elapsed Time: 0:00:01 Time:  0:00:01\n",
      "  3% (38 of 1000) |                      | Elapsed Time: 0:01:29 ETA:   0:38:48\u001b[33mWARNING\u001b[0m: Making input data immutable.\n",
      "100% (5 of 5) |##########################| Elapsed Time: 0:00:01 Time:  0:00:01\n"
     ]
    },
    {
     "name": "stderr",
     "output_type": "stream",
     "text": [
      "  3% (39 of 1000) |                      | Elapsed Time: 0:01:31 ETA:   0:39:40\u001b[33mWARNING\u001b[0m: Making input data immutable.\n",
      "100% (5 of 5) |##########################| Elapsed Time: 0:00:00 Time:  0:00:00\n",
      "100% (1000 of 1000) |####################| Elapsed Time: 0:01:32 Time:  0:01:32\n"
     ]
    },
    {
     "ename": "KeyboardInterrupt",
     "evalue": "",
     "output_type": "error",
     "traceback": [
      "\u001b[0;31m---------------------------------------------------------------------------\u001b[0m",
      "\u001b[0;31mKeyboardInterrupt\u001b[0m                         Traceback (most recent call last)",
      "\u001b[0;32m<ipython-input-13-964e0db5934d>\u001b[0m in \u001b[0;36m<module>\u001b[0;34m\u001b[0m\n\u001b[1;32m     19\u001b[0m     \u001b[0madaptative_precision\u001b[0m\u001b[0;34m=\u001b[0m\u001b[0;32mTrue\u001b[0m\u001b[0;34m,\u001b[0m\u001b[0;34m\u001b[0m\u001b[0;34m\u001b[0m\u001b[0m\n\u001b[1;32m     20\u001b[0m     \u001b[0mprecision_increase_rate\u001b[0m\u001b[0;34m=\u001b[0m\u001b[0;36m1.01\u001b[0m\u001b[0;34m,\u001b[0m\u001b[0;34m\u001b[0m\u001b[0;34m\u001b[0m\u001b[0m\n\u001b[0;32m---> 21\u001b[0;31m     \u001b[0minitial_precision_level\u001b[0m\u001b[0;34m=\u001b[0m\u001b[0;36m5\u001b[0m\u001b[0;34m,\u001b[0m\u001b[0;34m\u001b[0m\u001b[0;34m\u001b[0m\u001b[0m\n\u001b[0m\u001b[1;32m     22\u001b[0m )\n",
      "\u001b[0;32m~/workspace/pysap-mri/mri/numerics/reconstruct.py\u001b[0m in \u001b[0;36msparse_rec_fista\u001b[0;34m(gradient_op, linear_op, prox_op, cost_op, mu, lambda_init, max_nb_of_iter, metric_call_period, metrics, verbose, pov, iterative_prox, adaptative_precision, initial_precision_level, precision_increase_rate, **lambda_update_params)\u001b[0m\n\u001b[1;32m    145\u001b[0m     \u001b[0;32mif\u001b[0m \u001b[0mverbose\u001b[0m \u001b[0;34m>\u001b[0m \u001b[0;36m0\u001b[0m\u001b[0;34m:\u001b[0m\u001b[0;34m\u001b[0m\u001b[0;34m\u001b[0m\u001b[0m\n\u001b[1;32m    146\u001b[0m         \u001b[0mprint\u001b[0m\u001b[0;34m(\u001b[0m\u001b[0;34m\"Starting optimization...\"\u001b[0m\u001b[0;34m)\u001b[0m\u001b[0;34m\u001b[0m\u001b[0;34m\u001b[0m\u001b[0m\n\u001b[0;32m--> 147\u001b[0;31m     \u001b[0mopt\u001b[0m\u001b[0;34m.\u001b[0m\u001b[0miterate\u001b[0m\u001b[0;34m(\u001b[0m\u001b[0mmax_iter\u001b[0m\u001b[0;34m=\u001b[0m\u001b[0mmax_nb_of_iter\u001b[0m\u001b[0;34m)\u001b[0m\u001b[0;34m\u001b[0m\u001b[0;34m\u001b[0m\u001b[0m\n\u001b[0m\u001b[1;32m    148\u001b[0m     \u001b[0mend\u001b[0m \u001b[0;34m=\u001b[0m \u001b[0mtime\u001b[0m\u001b[0;34m.\u001b[0m\u001b[0mclock\u001b[0m\u001b[0;34m(\u001b[0m\u001b[0;34m)\u001b[0m\u001b[0;34m\u001b[0m\u001b[0;34m\u001b[0m\u001b[0m\n\u001b[1;32m    149\u001b[0m     \u001b[0;32mif\u001b[0m \u001b[0mverbose\u001b[0m \u001b[0;34m>\u001b[0m \u001b[0;36m0\u001b[0m\u001b[0;34m:\u001b[0m\u001b[0;34m\u001b[0m\u001b[0;34m\u001b[0m\u001b[0m\n",
      "\u001b[0;32m~/workspace/ModOpt/modopt/opt/algorithms.py\u001b[0m in \u001b[0;36miterate\u001b[0;34m(self, max_iter)\u001b[0m\n\u001b[1;32m    632\u001b[0m         \"\"\"\n\u001b[1;32m    633\u001b[0m \u001b[0;34m\u001b[0m\u001b[0m\n\u001b[0;32m--> 634\u001b[0;31m         \u001b[0mself\u001b[0m\u001b[0;34m.\u001b[0m\u001b[0m_run_alg\u001b[0m\u001b[0;34m(\u001b[0m\u001b[0mmax_iter\u001b[0m\u001b[0;34m)\u001b[0m\u001b[0;34m\u001b[0m\u001b[0;34m\u001b[0m\u001b[0m\n\u001b[0m\u001b[1;32m    635\u001b[0m \u001b[0;34m\u001b[0m\u001b[0m\n\u001b[1;32m    636\u001b[0m         \u001b[0;31m# retrieve metrics results\u001b[0m\u001b[0;34m\u001b[0m\u001b[0;34m\u001b[0m\u001b[0;34m\u001b[0m\u001b[0m\n",
      "\u001b[0;32m~/workspace/ModOpt/modopt/opt/algorithms.py\u001b[0m in \u001b[0;36m_run_alg\u001b[0;34m(self, max_iter)\u001b[0m\n\u001b[1;32m    217\u001b[0m         \u001b[0;32mif\u001b[0m \u001b[0mself\u001b[0m\u001b[0;34m.\u001b[0m\u001b[0mprogress\u001b[0m\u001b[0;34m:\u001b[0m\u001b[0;34m\u001b[0m\u001b[0;34m\u001b[0m\u001b[0m\n\u001b[1;32m    218\u001b[0m             \u001b[0;32mwith\u001b[0m \u001b[0mProgressBar\u001b[0m\u001b[0;34m(\u001b[0m\u001b[0mredirect_stdout\u001b[0m\u001b[0;34m=\u001b[0m\u001b[0;32mTrue\u001b[0m\u001b[0;34m,\u001b[0m \u001b[0mmax_value\u001b[0m\u001b[0;34m=\u001b[0m\u001b[0mmax_iter\u001b[0m\u001b[0;34m)\u001b[0m \u001b[0;32mas\u001b[0m \u001b[0mbar\u001b[0m\u001b[0;34m:\u001b[0m\u001b[0;34m\u001b[0m\u001b[0;34m\u001b[0m\u001b[0m\n\u001b[0;32m--> 219\u001b[0;31m                 \u001b[0mself\u001b[0m\u001b[0;34m.\u001b[0m\u001b[0m_iterations\u001b[0m\u001b[0;34m(\u001b[0m\u001b[0mmax_iter\u001b[0m\u001b[0;34m,\u001b[0m \u001b[0mbar\u001b[0m\u001b[0;34m=\u001b[0m\u001b[0mbar\u001b[0m\u001b[0;34m)\u001b[0m\u001b[0;34m\u001b[0m\u001b[0;34m\u001b[0m\u001b[0m\n\u001b[0m\u001b[1;32m    220\u001b[0m         \u001b[0;32melse\u001b[0m\u001b[0;34m:\u001b[0m\u001b[0;34m\u001b[0m\u001b[0;34m\u001b[0m\u001b[0m\n\u001b[1;32m    221\u001b[0m             \u001b[0mself\u001b[0m\u001b[0;34m.\u001b[0m\u001b[0m_iterations\u001b[0m\u001b[0;34m(\u001b[0m\u001b[0mmax_iter\u001b[0m\u001b[0;34m)\u001b[0m\u001b[0;34m\u001b[0m\u001b[0;34m\u001b[0m\u001b[0m\n",
      "\u001b[0;32m~/workspace/ModOpt/modopt/opt/algorithms.py\u001b[0m in \u001b[0;36m_iterations\u001b[0;34m(self, max_iter, bar)\u001b[0m\n\u001b[1;32m    189\u001b[0m         \u001b[0;32mfor\u001b[0m \u001b[0midx\u001b[0m \u001b[0;32min\u001b[0m \u001b[0mrange\u001b[0m\u001b[0;34m(\u001b[0m\u001b[0mmax_iter\u001b[0m\u001b[0;34m)\u001b[0m\u001b[0;34m:\u001b[0m\u001b[0;34m\u001b[0m\u001b[0;34m\u001b[0m\u001b[0m\n\u001b[1;32m    190\u001b[0m             \u001b[0mself\u001b[0m\u001b[0;34m.\u001b[0m\u001b[0midx\u001b[0m \u001b[0;34m=\u001b[0m \u001b[0midx\u001b[0m\u001b[0;34m\u001b[0m\u001b[0;34m\u001b[0m\u001b[0m\n\u001b[0;32m--> 191\u001b[0;31m             \u001b[0mself\u001b[0m\u001b[0;34m.\u001b[0m\u001b[0m_update\u001b[0m\u001b[0;34m(\u001b[0m\u001b[0;34m)\u001b[0m\u001b[0;34m\u001b[0m\u001b[0;34m\u001b[0m\u001b[0m\n\u001b[0m\u001b[1;32m    192\u001b[0m \u001b[0;34m\u001b[0m\u001b[0m\n\u001b[1;32m    193\u001b[0m             \u001b[0;31m# Calling metrics every metric_call_period cycle\u001b[0m\u001b[0;34m\u001b[0m\u001b[0;34m\u001b[0m\u001b[0;34m\u001b[0m\u001b[0m\n",
      "\u001b[0;32m~/workspace/ModOpt/modopt/opt/algorithms.py\u001b[0m in \u001b[0;36m_update\u001b[0;34m(self)\u001b[0m\n\u001b[1;32m    596\u001b[0m             \u001b[0my_old\u001b[0m\u001b[0;34m,\u001b[0m\u001b[0;34m\u001b[0m\u001b[0;34m\u001b[0m\u001b[0m\n\u001b[1;32m    597\u001b[0m             \u001b[0mextra_factor\u001b[0m\u001b[0;34m=\u001b[0m\u001b[0mself\u001b[0m\u001b[0;34m.\u001b[0m\u001b[0m_beta\u001b[0m\u001b[0;34m,\u001b[0m\u001b[0;34m\u001b[0m\u001b[0;34m\u001b[0m\u001b[0m\n\u001b[0;32m--> 598\u001b[0;31m             \u001b[0;34m**\u001b[0m\u001b[0mextra_args\u001b[0m\u001b[0;34m,\u001b[0m\u001b[0;34m\u001b[0m\u001b[0;34m\u001b[0m\u001b[0m\n\u001b[0m\u001b[1;32m    599\u001b[0m         )\n\u001b[1;32m    600\u001b[0m \u001b[0;34m\u001b[0m\u001b[0m\n",
      "\u001b[0;32m~/workspace/ModOpt/modopt/base/wrappers.py\u001b[0m in \u001b[0;36mwrapper\u001b[0;34m(*args, **kwargs)\u001b[0m\n\u001b[1;32m     47\u001b[0m                 (not isinstance(props[3], type(None)))):\n\u001b[1;32m     48\u001b[0m \u001b[0;34m\u001b[0m\u001b[0m\n\u001b[0;32m---> 49\u001b[0;31m             \u001b[0;32mreturn\u001b[0m \u001b[0mfunc\u001b[0m\u001b[0;34m(\u001b[0m\u001b[0;34m*\u001b[0m\u001b[0margs\u001b[0m\u001b[0;34m,\u001b[0m \u001b[0;34m**\u001b[0m\u001b[0mkwargs\u001b[0m\u001b[0;34m)\u001b[0m\u001b[0;34m\u001b[0m\u001b[0;34m\u001b[0m\u001b[0m\n\u001b[0m\u001b[1;32m     50\u001b[0m \u001b[0;34m\u001b[0m\u001b[0m\n\u001b[1;32m     51\u001b[0m         \u001b[0;32melse\u001b[0m\u001b[0;34m:\u001b[0m\u001b[0;34m\u001b[0m\u001b[0;34m\u001b[0m\u001b[0m\n",
      "\u001b[0;32m~/workspace/ModOpt/modopt/opt/proximity.py\u001b[0m in \u001b[0;36m_op_method\u001b[0;34m(self, data, extra_factor, precision_level)\u001b[0m\n\u001b[1;32m    414\u001b[0m         )\n\u001b[1;32m    415\u001b[0m         \u001b[0;31m# run the computation\u001b[0m\u001b[0;34m\u001b[0m\u001b[0;34m\u001b[0m\u001b[0;34m\u001b[0m\u001b[0m\n\u001b[0;32m--> 416\u001b[0;31m         \u001b[0mopt\u001b[0m\u001b[0;34m.\u001b[0m\u001b[0miterate\u001b[0m\u001b[0;34m(\u001b[0m\u001b[0mmax_iter\u001b[0m\u001b[0;34m=\u001b[0m\u001b[0mmax_iter\u001b[0m\u001b[0;34m)\u001b[0m\u001b[0;34m\u001b[0m\u001b[0;34m\u001b[0m\u001b[0m\n\u001b[0m\u001b[1;32m    417\u001b[0m         \u001b[0mx_final\u001b[0m \u001b[0;34m=\u001b[0m \u001b[0mopt\u001b[0m\u001b[0;34m.\u001b[0m\u001b[0mx_final\u001b[0m\u001b[0;34m\u001b[0m\u001b[0;34m\u001b[0m\u001b[0m\n\u001b[1;32m    418\u001b[0m \u001b[0;34m\u001b[0m\u001b[0m\n",
      "\u001b[0;32m~/workspace/ModOpt/modopt/opt/algorithms.py\u001b[0m in \u001b[0;36miterate\u001b[0;34m(self, max_iter, n_rewightings)\u001b[0m\n\u001b[1;32m   1057\u001b[0m         \"\"\"\n\u001b[1;32m   1058\u001b[0m \u001b[0;34m\u001b[0m\u001b[0m\n\u001b[0;32m-> 1059\u001b[0;31m         \u001b[0mself\u001b[0m\u001b[0;34m.\u001b[0m\u001b[0m_run_alg\u001b[0m\u001b[0;34m(\u001b[0m\u001b[0mmax_iter\u001b[0m\u001b[0;34m)\u001b[0m\u001b[0;34m\u001b[0m\u001b[0;34m\u001b[0m\u001b[0m\n\u001b[0m\u001b[1;32m   1060\u001b[0m \u001b[0;34m\u001b[0m\u001b[0m\n\u001b[1;32m   1061\u001b[0m         \u001b[0;32mif\u001b[0m \u001b[0;32mnot\u001b[0m \u001b[0misinstance\u001b[0m\u001b[0;34m(\u001b[0m\u001b[0mself\u001b[0m\u001b[0;34m.\u001b[0m\u001b[0m_reweight\u001b[0m\u001b[0;34m,\u001b[0m \u001b[0mtype\u001b[0m\u001b[0;34m(\u001b[0m\u001b[0;32mNone\u001b[0m\u001b[0;34m)\u001b[0m\u001b[0;34m)\u001b[0m\u001b[0;34m:\u001b[0m\u001b[0;34m\u001b[0m\u001b[0;34m\u001b[0m\u001b[0m\n",
      "\u001b[0;32m~/workspace/ModOpt/modopt/opt/algorithms.py\u001b[0m in \u001b[0;36m_run_alg\u001b[0;34m(self, max_iter)\u001b[0m\n\u001b[1;32m    217\u001b[0m         \u001b[0;32mif\u001b[0m \u001b[0mself\u001b[0m\u001b[0;34m.\u001b[0m\u001b[0mprogress\u001b[0m\u001b[0;34m:\u001b[0m\u001b[0;34m\u001b[0m\u001b[0;34m\u001b[0m\u001b[0m\n\u001b[1;32m    218\u001b[0m             \u001b[0;32mwith\u001b[0m \u001b[0mProgressBar\u001b[0m\u001b[0;34m(\u001b[0m\u001b[0mredirect_stdout\u001b[0m\u001b[0;34m=\u001b[0m\u001b[0;32mTrue\u001b[0m\u001b[0;34m,\u001b[0m \u001b[0mmax_value\u001b[0m\u001b[0;34m=\u001b[0m\u001b[0mmax_iter\u001b[0m\u001b[0;34m)\u001b[0m \u001b[0;32mas\u001b[0m \u001b[0mbar\u001b[0m\u001b[0;34m:\u001b[0m\u001b[0;34m\u001b[0m\u001b[0;34m\u001b[0m\u001b[0m\n\u001b[0;32m--> 219\u001b[0;31m                 \u001b[0mself\u001b[0m\u001b[0;34m.\u001b[0m\u001b[0m_iterations\u001b[0m\u001b[0;34m(\u001b[0m\u001b[0mmax_iter\u001b[0m\u001b[0;34m,\u001b[0m \u001b[0mbar\u001b[0m\u001b[0;34m=\u001b[0m\u001b[0mbar\u001b[0m\u001b[0;34m)\u001b[0m\u001b[0;34m\u001b[0m\u001b[0;34m\u001b[0m\u001b[0m\n\u001b[0m\u001b[1;32m    220\u001b[0m         \u001b[0;32melse\u001b[0m\u001b[0;34m:\u001b[0m\u001b[0;34m\u001b[0m\u001b[0;34m\u001b[0m\u001b[0m\n\u001b[1;32m    221\u001b[0m             \u001b[0mself\u001b[0m\u001b[0;34m.\u001b[0m\u001b[0m_iterations\u001b[0m\u001b[0;34m(\u001b[0m\u001b[0mmax_iter\u001b[0m\u001b[0;34m)\u001b[0m\u001b[0;34m\u001b[0m\u001b[0;34m\u001b[0m\u001b[0m\n",
      "\u001b[0;32m~/workspace/ModOpt/modopt/opt/algorithms.py\u001b[0m in \u001b[0;36m_iterations\u001b[0;34m(self, max_iter, bar)\u001b[0m\n\u001b[1;32m    189\u001b[0m         \u001b[0;32mfor\u001b[0m \u001b[0midx\u001b[0m \u001b[0;32min\u001b[0m \u001b[0mrange\u001b[0m\u001b[0;34m(\u001b[0m\u001b[0mmax_iter\u001b[0m\u001b[0;34m)\u001b[0m\u001b[0;34m:\u001b[0m\u001b[0;34m\u001b[0m\u001b[0;34m\u001b[0m\u001b[0m\n\u001b[1;32m    190\u001b[0m             \u001b[0mself\u001b[0m\u001b[0;34m.\u001b[0m\u001b[0midx\u001b[0m \u001b[0;34m=\u001b[0m \u001b[0midx\u001b[0m\u001b[0;34m\u001b[0m\u001b[0;34m\u001b[0m\u001b[0m\n\u001b[0;32m--> 191\u001b[0;31m             \u001b[0mself\u001b[0m\u001b[0;34m.\u001b[0m\u001b[0m_update\u001b[0m\u001b[0;34m(\u001b[0m\u001b[0;34m)\u001b[0m\u001b[0;34m\u001b[0m\u001b[0;34m\u001b[0m\u001b[0m\n\u001b[0m\u001b[1;32m    192\u001b[0m \u001b[0;34m\u001b[0m\u001b[0m\n\u001b[1;32m    193\u001b[0m             \u001b[0;31m# Calling metrics every metric_call_period cycle\u001b[0m\u001b[0;34m\u001b[0m\u001b[0;34m\u001b[0m\u001b[0;34m\u001b[0m\u001b[0m\n",
      "\u001b[0;32m~/workspace/ModOpt/modopt/opt/algorithms.py\u001b[0m in \u001b[0;36m_update\u001b[0;34m(self)\u001b[0m\n\u001b[1;32m   1015\u001b[0m \u001b[0;34m\u001b[0m\u001b[0m\n\u001b[1;32m   1016\u001b[0m         x_prox = self._prox.op(self._x_old - self._tau * self._grad.grad -\n\u001b[0;32m-> 1017\u001b[0;31m                                self._tau * self._linear.adj_op(self._y_old))\n\u001b[0m\u001b[1;32m   1018\u001b[0m \u001b[0;34m\u001b[0m\u001b[0m\n\u001b[1;32m   1019\u001b[0m         \u001b[0;31m# Step 2 from eq.9.\u001b[0m\u001b[0;34m\u001b[0m\u001b[0;34m\u001b[0m\u001b[0;34m\u001b[0m\u001b[0m\n",
      "\u001b[0;32m~/workspace/pysap-mri/mri/reconstruct/linear.py\u001b[0m in \u001b[0;36madj_op\u001b[0;34m(self, coefs)\u001b[0m\n\u001b[1;32m    170\u001b[0m             )\n\u001b[1;32m    171\u001b[0m         \u001b[0mdata_real\u001b[0m \u001b[0;34m=\u001b[0m \u001b[0mfilter_convolve\u001b[0m\u001b[0;34m(\u001b[0m\u001b[0mcoefs\u001b[0m\u001b[0;34m.\u001b[0m\u001b[0mreal\u001b[0m\u001b[0;34m,\u001b[0m \u001b[0mself\u001b[0m\u001b[0;34m.\u001b[0m\u001b[0mfilters\u001b[0m\u001b[0;34m,\u001b[0m \u001b[0mfilter_rot\u001b[0m\u001b[0;34m=\u001b[0m\u001b[0;32mTrue\u001b[0m\u001b[0;34m)\u001b[0m\u001b[0;34m\u001b[0m\u001b[0;34m\u001b[0m\u001b[0m\n\u001b[0;32m--> 172\u001b[0;31m         \u001b[0mdata_imag\u001b[0m \u001b[0;34m=\u001b[0m \u001b[0mfilter_convolve\u001b[0m\u001b[0;34m(\u001b[0m\u001b[0mcoefs\u001b[0m\u001b[0;34m.\u001b[0m\u001b[0mimag\u001b[0m\u001b[0;34m,\u001b[0m \u001b[0mself\u001b[0m\u001b[0;34m.\u001b[0m\u001b[0mfilters\u001b[0m\u001b[0;34m,\u001b[0m \u001b[0mfilter_rot\u001b[0m\u001b[0;34m=\u001b[0m\u001b[0;32mTrue\u001b[0m\u001b[0;34m)\u001b[0m\u001b[0;34m\u001b[0m\u001b[0;34m\u001b[0m\u001b[0m\n\u001b[0m\u001b[1;32m    173\u001b[0m         \u001b[0;31m# NOTE : if we need to flatten the coefs we will need to unflatten\u001b[0m\u001b[0;34m\u001b[0m\u001b[0;34m\u001b[0m\u001b[0;34m\u001b[0m\u001b[0m\n\u001b[1;32m    174\u001b[0m         \u001b[0;31m# them before\u001b[0m\u001b[0;34m\u001b[0m\u001b[0;34m\u001b[0m\u001b[0;34m\u001b[0m\u001b[0m\n",
      "\u001b[0;32m~/workspace/ModOpt/modopt/signal/wavelet.py\u001b[0m in \u001b[0;36mfilter_convolve\u001b[0;34m(data, filters, filter_rot, method)\u001b[0m\n\u001b[1;32m    251\u001b[0m     \u001b[0;32mif\u001b[0m \u001b[0mfilter_rot\u001b[0m\u001b[0;34m:\u001b[0m\u001b[0;34m\u001b[0m\u001b[0;34m\u001b[0m\u001b[0m\n\u001b[1;32m    252\u001b[0m         return np.sum([convolve(coef, f, method=method) for coef, f in\n\u001b[0;32m--> 253\u001b[0;31m                        zip(data, rotate_stack(filters))], axis=0)\n\u001b[0m\u001b[1;32m    254\u001b[0m \u001b[0;34m\u001b[0m\u001b[0m\n\u001b[1;32m    255\u001b[0m     \u001b[0;32melse\u001b[0m\u001b[0;34m:\u001b[0m\u001b[0;34m\u001b[0m\u001b[0;34m\u001b[0m\u001b[0m\n",
      "\u001b[0;32m~/workspace/ModOpt/modopt/signal/wavelet.py\u001b[0m in \u001b[0;36m<listcomp>\u001b[0;34m(.0)\u001b[0m\n\u001b[1;32m    250\u001b[0m \u001b[0;34m\u001b[0m\u001b[0m\n\u001b[1;32m    251\u001b[0m     \u001b[0;32mif\u001b[0m \u001b[0mfilter_rot\u001b[0m\u001b[0;34m:\u001b[0m\u001b[0;34m\u001b[0m\u001b[0;34m\u001b[0m\u001b[0m\n\u001b[0;32m--> 252\u001b[0;31m         return np.sum([convolve(coef, f, method=method) for coef, f in\n\u001b[0m\u001b[1;32m    253\u001b[0m                        zip(data, rotate_stack(filters))], axis=0)\n\u001b[1;32m    254\u001b[0m \u001b[0;34m\u001b[0m\u001b[0m\n",
      "\u001b[0;32m~/workspace/ModOpt/modopt/math/convolve.py\u001b[0m in \u001b[0;36mconvolve\u001b[0;34m(data, kernel, method)\u001b[0m\n\u001b[1;32m    101\u001b[0m \u001b[0;34m\u001b[0m\u001b[0m\n\u001b[1;32m    102\u001b[0m     \u001b[0;32melif\u001b[0m \u001b[0mmethod\u001b[0m \u001b[0;34m==\u001b[0m \u001b[0;34m'scipy'\u001b[0m\u001b[0;34m:\u001b[0m\u001b[0;34m\u001b[0m\u001b[0;34m\u001b[0m\u001b[0m\n\u001b[0;32m--> 103\u001b[0;31m         \u001b[0;32mreturn\u001b[0m \u001b[0mscipy\u001b[0m\u001b[0;34m.\u001b[0m\u001b[0msignal\u001b[0m\u001b[0;34m.\u001b[0m\u001b[0mfftconvolve\u001b[0m\u001b[0;34m(\u001b[0m\u001b[0mdata\u001b[0m\u001b[0;34m,\u001b[0m \u001b[0mkernel\u001b[0m\u001b[0;34m,\u001b[0m \u001b[0mmode\u001b[0m\u001b[0;34m=\u001b[0m\u001b[0;34m'same'\u001b[0m\u001b[0;34m)\u001b[0m\u001b[0;34m\u001b[0m\u001b[0;34m\u001b[0m\u001b[0m\n\u001b[0m\u001b[1;32m    104\u001b[0m \u001b[0;34m\u001b[0m\u001b[0m\n\u001b[1;32m    105\u001b[0m \u001b[0;34m\u001b[0m\u001b[0m\n",
      "\u001b[0;32m~/workspace/pysap-mri/venv/lib/python3.6/site-packages/scipy/signal/signaltools.py\u001b[0m in \u001b[0;36mfftconvolve\u001b[0;34m(in1, in2, mode, axes)\u001b[0m\n\u001b[1;32m    413\u001b[0m             \u001b[0msp1\u001b[0m \u001b[0;34m=\u001b[0m \u001b[0mnp\u001b[0m\u001b[0;34m.\u001b[0m\u001b[0mfft\u001b[0m\u001b[0;34m.\u001b[0m\u001b[0mrfftn\u001b[0m\u001b[0;34m(\u001b[0m\u001b[0min1\u001b[0m\u001b[0;34m,\u001b[0m \u001b[0mfshape\u001b[0m\u001b[0;34m,\u001b[0m \u001b[0maxes\u001b[0m\u001b[0;34m=\u001b[0m\u001b[0maxes\u001b[0m\u001b[0;34m)\u001b[0m\u001b[0;34m\u001b[0m\u001b[0;34m\u001b[0m\u001b[0m\n\u001b[1;32m    414\u001b[0m             \u001b[0msp2\u001b[0m \u001b[0;34m=\u001b[0m \u001b[0mnp\u001b[0m\u001b[0;34m.\u001b[0m\u001b[0mfft\u001b[0m\u001b[0;34m.\u001b[0m\u001b[0mrfftn\u001b[0m\u001b[0;34m(\u001b[0m\u001b[0min2\u001b[0m\u001b[0;34m,\u001b[0m \u001b[0mfshape\u001b[0m\u001b[0;34m,\u001b[0m \u001b[0maxes\u001b[0m\u001b[0;34m=\u001b[0m\u001b[0maxes\u001b[0m\u001b[0;34m)\u001b[0m\u001b[0;34m\u001b[0m\u001b[0;34m\u001b[0m\u001b[0m\n\u001b[0;32m--> 415\u001b[0;31m             \u001b[0mret\u001b[0m \u001b[0;34m=\u001b[0m \u001b[0mnp\u001b[0m\u001b[0;34m.\u001b[0m\u001b[0mfft\u001b[0m\u001b[0;34m.\u001b[0m\u001b[0mirfftn\u001b[0m\u001b[0;34m(\u001b[0m\u001b[0msp1\u001b[0m \u001b[0;34m*\u001b[0m \u001b[0msp2\u001b[0m\u001b[0;34m,\u001b[0m \u001b[0mfshape\u001b[0m\u001b[0;34m,\u001b[0m \u001b[0maxes\u001b[0m\u001b[0;34m=\u001b[0m\u001b[0maxes\u001b[0m\u001b[0;34m)\u001b[0m\u001b[0;34m[\u001b[0m\u001b[0mfslice\u001b[0m\u001b[0;34m]\u001b[0m\u001b[0;34m.\u001b[0m\u001b[0mcopy\u001b[0m\u001b[0;34m(\u001b[0m\u001b[0;34m)\u001b[0m\u001b[0;34m\u001b[0m\u001b[0;34m\u001b[0m\u001b[0m\n\u001b[0m\u001b[1;32m    416\u001b[0m         \u001b[0;32mfinally\u001b[0m\u001b[0;34m:\u001b[0m\u001b[0;34m\u001b[0m\u001b[0;34m\u001b[0m\u001b[0m\n\u001b[1;32m    417\u001b[0m             \u001b[0;32mif\u001b[0m \u001b[0;32mnot\u001b[0m \u001b[0m_rfft_mt_safe\u001b[0m\u001b[0;34m:\u001b[0m\u001b[0;34m\u001b[0m\u001b[0;34m\u001b[0m\u001b[0m\n",
      "\u001b[0;32m~/workspace/pysap-mri/venv/lib/python3.6/site-packages/numpy/fft/fftpack.py\u001b[0m in \u001b[0;36mirfftn\u001b[0;34m(a, s, axes, norm)\u001b[0m\n\u001b[1;32m   1260\u001b[0m     \u001b[0ms\u001b[0m\u001b[0;34m,\u001b[0m \u001b[0maxes\u001b[0m \u001b[0;34m=\u001b[0m \u001b[0m_cook_nd_args\u001b[0m\u001b[0;34m(\u001b[0m\u001b[0ma\u001b[0m\u001b[0;34m,\u001b[0m \u001b[0ms\u001b[0m\u001b[0;34m,\u001b[0m \u001b[0maxes\u001b[0m\u001b[0;34m,\u001b[0m \u001b[0minvreal\u001b[0m\u001b[0;34m=\u001b[0m\u001b[0;36m1\u001b[0m\u001b[0;34m)\u001b[0m\u001b[0;34m\u001b[0m\u001b[0;34m\u001b[0m\u001b[0m\n\u001b[1;32m   1261\u001b[0m     \u001b[0;32mfor\u001b[0m \u001b[0mii\u001b[0m \u001b[0;32min\u001b[0m \u001b[0mrange\u001b[0m\u001b[0;34m(\u001b[0m\u001b[0mlen\u001b[0m\u001b[0;34m(\u001b[0m\u001b[0maxes\u001b[0m\u001b[0;34m)\u001b[0m\u001b[0;34m-\u001b[0m\u001b[0;36m1\u001b[0m\u001b[0;34m)\u001b[0m\u001b[0;34m:\u001b[0m\u001b[0;34m\u001b[0m\u001b[0;34m\u001b[0m\u001b[0m\n\u001b[0;32m-> 1262\u001b[0;31m         \u001b[0ma\u001b[0m \u001b[0;34m=\u001b[0m \u001b[0mifft\u001b[0m\u001b[0;34m(\u001b[0m\u001b[0ma\u001b[0m\u001b[0;34m,\u001b[0m \u001b[0ms\u001b[0m\u001b[0;34m[\u001b[0m\u001b[0mii\u001b[0m\u001b[0;34m]\u001b[0m\u001b[0;34m,\u001b[0m \u001b[0maxes\u001b[0m\u001b[0;34m[\u001b[0m\u001b[0mii\u001b[0m\u001b[0;34m]\u001b[0m\u001b[0;34m,\u001b[0m \u001b[0mnorm\u001b[0m\u001b[0;34m)\u001b[0m\u001b[0;34m\u001b[0m\u001b[0;34m\u001b[0m\u001b[0m\n\u001b[0m\u001b[1;32m   1263\u001b[0m     \u001b[0ma\u001b[0m \u001b[0;34m=\u001b[0m \u001b[0mirfft\u001b[0m\u001b[0;34m(\u001b[0m\u001b[0ma\u001b[0m\u001b[0;34m,\u001b[0m \u001b[0ms\u001b[0m\u001b[0;34m[\u001b[0m\u001b[0;34m-\u001b[0m\u001b[0;36m1\u001b[0m\u001b[0;34m]\u001b[0m\u001b[0;34m,\u001b[0m \u001b[0maxes\u001b[0m\u001b[0;34m[\u001b[0m\u001b[0;34m-\u001b[0m\u001b[0;36m1\u001b[0m\u001b[0;34m]\u001b[0m\u001b[0;34m,\u001b[0m \u001b[0mnorm\u001b[0m\u001b[0;34m)\u001b[0m\u001b[0;34m\u001b[0m\u001b[0;34m\u001b[0m\u001b[0m\n\u001b[1;32m   1264\u001b[0m     \u001b[0;32mreturn\u001b[0m \u001b[0ma\u001b[0m\u001b[0;34m\u001b[0m\u001b[0;34m\u001b[0m\u001b[0m\n",
      "\u001b[0;32m~/workspace/pysap-mri/venv/lib/python3.6/site-packages/numpy/fft/fftpack.py\u001b[0m in \u001b[0;36mifft\u001b[0;34m(a, n, axis, norm)\u001b[0m\n\u001b[1;32m    296\u001b[0m     \"\"\"\n\u001b[1;32m    297\u001b[0m     \u001b[0;31m# The copy may be required for multithreading.\u001b[0m\u001b[0;34m\u001b[0m\u001b[0;34m\u001b[0m\u001b[0;34m\u001b[0m\u001b[0m\n\u001b[0;32m--> 298\u001b[0;31m     \u001b[0ma\u001b[0m \u001b[0;34m=\u001b[0m \u001b[0marray\u001b[0m\u001b[0;34m(\u001b[0m\u001b[0ma\u001b[0m\u001b[0;34m,\u001b[0m \u001b[0mcopy\u001b[0m\u001b[0;34m=\u001b[0m\u001b[0;32mTrue\u001b[0m\u001b[0;34m,\u001b[0m \u001b[0mdtype\u001b[0m\u001b[0;34m=\u001b[0m\u001b[0mcomplex\u001b[0m\u001b[0;34m)\u001b[0m\u001b[0;34m\u001b[0m\u001b[0;34m\u001b[0m\u001b[0m\n\u001b[0m\u001b[1;32m    299\u001b[0m     \u001b[0;32mif\u001b[0m \u001b[0mn\u001b[0m \u001b[0;32mis\u001b[0m \u001b[0;32mNone\u001b[0m\u001b[0;34m:\u001b[0m\u001b[0;34m\u001b[0m\u001b[0;34m\u001b[0m\u001b[0m\n\u001b[1;32m    300\u001b[0m         \u001b[0mn\u001b[0m \u001b[0;34m=\u001b[0m \u001b[0ma\u001b[0m\u001b[0;34m.\u001b[0m\u001b[0mshape\u001b[0m\u001b[0;34m[\u001b[0m\u001b[0maxis\u001b[0m\u001b[0;34m]\u001b[0m\u001b[0;34m\u001b[0m\u001b[0;34m\u001b[0m\u001b[0m\n",
      "\u001b[0;31mKeyboardInterrupt\u001b[0m: "
     ]
    }
   ],
   "source": [
    "# Start the FISTA reconstruction\n",
    "cost_op = None\n",
    "\n",
    "_, _, _, metrics_iterative = sparse_rec_fista(\n",
    "    gradient_op=gradient_op,\n",
    "    linear_op=Identity(),\n",
    "    prox_op=prox_op_iterative,\n",
    "    cost_op=cost_op,\n",
    "    xi_restart=0.96,\n",
    "    s_greedy=1.1,\n",
    "    mu=mu,\n",
    "    restart_strategy='greedy',\n",
    "    pov='analysis',\n",
    "    iterative_prox=True,\n",
    "    max_nb_of_iter=max_iter,\n",
    "    metrics=metrics_,\n",
    "    metric_call_period=1,\n",
    "    verbose=1,\n",
    "    adaptative_precision=True,\n",
    "    precision_increase_rate=1.01,\n",
    "    initial_precision_level=5,\n",
    ")"
   ]
  },
  {
   "cell_type": "code",
   "execution_count": null,
   "metadata": {},
   "outputs": [],
   "source": [
    "# Start the Condat reconstruction\n",
    "cost_op = None\n",
    "_, _, _, metrics_condat = sparse_rec_condatvu(\n",
    "    gradient_op,\n",
    "    linear_op,\n",
    "    prox_op_condat,\n",
    "    cost_op,\n",
    "    std_est_method='dual',\n",
    "    std_est=0.1,\n",
    "    mu=mu,\n",
    "    sigma=10,\n",
    "    nb_of_reweights=0,\n",
    "    max_nb_of_iter=max_iter,\n",
    "    metrics=metrics_,\n",
    "    metric_call_period=1,\n",
    "    verbose=1,\n",
    ")"
   ]
  },
  {
   "cell_type": "code",
   "execution_count": null,
   "metadata": {},
   "outputs": [],
   "source": [
    "opt_metrics = {metric_name: metric_val['values'][-1] for metric_name, metric_val in metrics_condat.items()}"
   ]
  },
  {
   "cell_type": "code",
   "execution_count": null,
   "metadata": {},
   "outputs": [],
   "source": [
    "metric_name = 'cost'\n",
    "plt.figure(figsize=(9, 5))\n",
    "plt.plot(\n",
    "#     np.log10(np.abs(np.array(metrics_condat[metric_name]['values'] - opt_metrics[metric_name]))), \n",
    "    np.log10(np.abs(np.array(metrics_condat[metric_name]['values']))), \n",
    "    label='Condat', \n",
    ")\n",
    "plt.plot(\n",
    "#     np.log10(np.abs(np.array(metrics_iterative[metric_name]['values'] - opt_metrics[metric_name]))), \n",
    "    np.log10(np.abs(np.array(metrics_iterative[metric_name]['values']))), \n",
    "    label='greedy FAASTA', \n",
    ")\n",
    "plt.legend()"
   ]
  },
  {
   "cell_type": "code",
   "execution_count": null,
   "metadata": {},
   "outputs": [],
   "source": [
    "metrics_iterative['nrmse']['values'][-1]"
   ]
  },
  {
   "cell_type": "code",
   "execution_count": null,
   "metadata": {},
   "outputs": [],
   "source": []
  }
 ],
 "metadata": {
  "kernelspec": {
   "display_name": "Python 3",
   "language": "python",
   "name": "python3"
  },
  "language_info": {
   "codemirror_mode": {
    "name": "ipython",
    "version": 3
   },
   "file_extension": ".py",
   "mimetype": "text/x-python",
   "name": "python",
   "nbconvert_exporter": "python",
   "pygments_lexer": "ipython3",
   "version": "3.6.8"
  }
 },
 "nbformat": 4,
 "nbformat_minor": 2
}
