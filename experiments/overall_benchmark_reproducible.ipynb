{
 "cells": [
  {
   "cell_type": "markdown",
   "metadata": {},
   "source": [
    "The idea of that notebook is to have a reproducible benchmark working with the masters version of `pysap` and `modopt` in April 2019. The benchmark will be on speed, for both sparkling and uniform random acquisition schemes, with a brain phantom, for decimated wavelets.\n",
    "\n",
    "The benchmark will future the algorithms of the abstract submission for SPARS 2019.\n",
    "\n",
    "Special attention must be taken for Condat. We might need to qualify the benchmark with non reproducible experiments where we set the norm of the linear operator. We also need to take care of the relaxation factor."
   ]
  },
  {
   "cell_type": "code",
   "execution_count": 1,
   "metadata": {
    "scrolled": false
   },
   "outputs": [
    {
     "name": "stdout",
     "output_type": "stream",
     "text": [
      "\n",
      "                 .|'''|       /.\\      '||'''|,\n",
      "                 ||          // \\\\      ||   ||\n",
      "'||''|, '||  ||` `|'''|,    //...\\\\     ||...|'\n",
      " ||  ||  `|..||   .   ||   //     \\\\    ||\n",
      " ||..|'      ||   |...|' .//       \\\\. .||\n",
      " ||       ,  |'\n",
      ".||        ''\n",
      "\n",
      "Package version: 0.0.3\n",
      "\n",
      "License: CeCILL-B\n",
      "\n",
      "Authors: \n",
      "\n",
      "Antoine Grigis <antoine.grigis@cea.fr>\n",
      "Samuel Farrens <samuel.farrens@cea.fr>\n",
      "Jean-Luc Starck <jl.stark@cea.fr>\n",
      "Philippe Ciuciu <philippe.ciuciu@cea.fr>\n",
      "\n",
      "Dependencies: \n",
      "\n",
      "scipy          : >=0.18.0  - required | 1.2.1     installed\n",
      "numpy          : >=1.11.0  - required | 1.16.2    installed\n",
      "matplotlib     : >=2.0.0   - required | 3.0.3     installed\n",
      "future         : >=0.16.0  - required | 0.17.1    installed\n",
      "astropy        : ==2.0.8   - required | 2.0.8     installed\n",
      "nibabel        : >=2.1.0   - required | 2.4.0     installed\n",
      "pyqtgraph      : >=0.10.0  - required | 0.10.0    installed\n",
      "pywt           : >=1.0.0   - required | 1.0.2     installed\n",
      "mri            : ==0.0.0   - required | ?         installed\n",
      "astro          : ==0.0.0   - required | ?         installed\n",
      "pysparse       : >=0.0.1   - required | 0.0.2     installed\n",
      "\n"
     ]
    }
   ],
   "source": [
    "%load_ext autoreload\n",
    "%autoreload 2\n",
    "%matplotlib nbagg\n",
    "\n",
    "# Third party import\n",
    "import matplotlib.pyplot as plt\n",
    "import numpy as np\n",
    "from scipy.ndimage import imread\n",
    "from tqdm import tqdm_notebook\n",
    "\n",
    "# Package import\n",
    "from modopt.math.metrics import ssim\n",
    "import pysap\n",
    "from pysap.data import get_sample_data\n",
    "from mri.numerics.reconstruct import sparse_rec_fista, sparse_rec_pogm, sparse_rec_condatvu\n",
    "from mri.reconstruct.fourier import NFFT\n",
    "from mri.reconstruct.utils import generate_operators, convert_mask_to_locations"
   ]
  },
  {
   "cell_type": "markdown",
   "metadata": {},
   "source": [
    "#  Loading input data"
   ]
  },
  {
   "cell_type": "code",
   "execution_count": 2,
   "metadata": {},
   "outputs": [],
   "source": [
    "image = get_sample_data(\"mri-slice-nifti\")\n",
    "original_image_data = np.copy(image.data)\n",
    "image.data += np.random.randn(*image.shape) * 20.\n",
    "image.data = image.data.astype(np.complex128)\n",
    "mask = get_sample_data(\"mri-mask\")"
   ]
  },
  {
   "cell_type": "code",
   "execution_count": 3,
   "metadata": {},
   "outputs": [],
   "source": [
    "non_cartesian = True\n",
    "opt_results = {}"
   ]
  },
  {
   "cell_type": "markdown",
   "metadata": {},
   "source": [
    "# Generate the kspace \n",
    "From the 2D brain slice and the acquistion mask, we generate the acquisition measurments, the observed kspace. We then reconstruct the zero order solution."
   ]
  },
  {
   "cell_type": "code",
   "execution_count": 4,
   "metadata": {},
   "outputs": [],
   "source": [
    "# Generate the subsampled kspace\n",
    "if non_cartesian:\n",
    "    kspace_loc = convert_mask_to_locations(mask.data)\n",
    "    fourier_op = NFFT(samples=kspace_loc, shape=image.shape)\n",
    "    kspace_data = fourier_op.op(image.data)\n",
    "\n",
    "    # Zero order solution\n",
    "    image_rec0 = pysap.Image(data=fourier_op.adj_op(kspace_data), metadata=image.metadata)\n",
    "else:\n",
    "    kspace_mask = np.fft.ifftshift(mask.data)\n",
    "    kspace_data = np.fft.fft2(image.data, norm=\"ortho\") * kspace_mask\n",
    "\n",
    "    # Get the locations of the kspace samples\n",
    "    kspace_loc = convert_mask_to_locations(kspace_mask)\n",
    "\n",
    "    # Zero order solution\n",
    "    image_rec0 = pysap.Image(data=np.fft.ifft2(kspace_data, norm=\"ortho\"), metadata=image.metadata)"
   ]
  },
  {
   "cell_type": "markdown",
   "metadata": {},
   "source": [
    "# FISTA optimization\n",
    "We now want to refine the zero order solution using a FISTA optimization."
   ]
  },
  {
   "cell_type": "code",
   "execution_count": 5,
   "metadata": {},
   "outputs": [
    {
     "name": "stderr",
     "output_type": "stream",
     "text": [
      "WARNING: Making input data immutable.\n"
     ]
    }
   ],
   "source": [
    "# Generate operators\n",
    "gradient_op, linear_op, prox_op, cost_op = generate_operators(\n",
    "    data=kspace_data,\n",
    "    wavelet_name=\"db4\",\n",
    "    samples=kspace_loc,\n",
    "    nb_scales=4,\n",
    "    non_cartesian=non_cartesian,\n",
    "    uniform_data_shape=image.shape,\n",
    "    gradient_space=\"synthesis\",\n",
    ")"
   ]
  },
  {
   "cell_type": "code",
   "execution_count": 6,
   "metadata": {},
   "outputs": [],
   "source": [
    "def objective_cost(x):\n",
    "    return data_fidelity(x) + sparsity(x)\n",
    "\n",
    "def sparsity(x):\n",
    "    return mu * np.sum(np.abs(x))\n",
    "\n",
    "def data_fidelity(x):\n",
    "    return 0.5 * np.linalg.norm(gradient_op.op(x) - kspace_data)**2"
   ]
  },
  {
   "cell_type": "code",
   "execution_count": 7,
   "metadata": {},
   "outputs": [],
   "source": [
    "def nrmse(x):\n",
    "    return np.linalg.norm(x - original_image_data) / np.mean(original_image_data)"
   ]
  },
  {
   "cell_type": "code",
   "execution_count": 8,
   "metadata": {},
   "outputs": [],
   "source": [
    "metrics_ = {\n",
    "    \"cost\": {\"metric\": objective_cost, \"mapping\": {\"z_new\": \"x\"}, \"cst_kwargs\": {}, \"early_stopping\": False},\n",
    "    \"nrmse\": {\"metric\": nrmse, \"mapping\": {\"x_new\": \"x\"}, \"cst_kwargs\": {}, \"early_stopping\": False},\n",
    "}"
   ]
  },
  {
   "cell_type": "code",
   "execution_count": 9,
   "metadata": {},
   "outputs": [],
   "source": [
    "mu = 80"
   ]
  },
  {
   "cell_type": "code",
   "execution_count": 10,
   "metadata": {},
   "outputs": [],
   "source": [
    "max_iter = 1000\n",
    "convergence_pot = max_iter >= 500"
   ]
  },
  {
   "cell_type": "code",
   "execution_count": 11,
   "metadata": {},
   "outputs": [
    {
     "ename": "AttributeError",
     "evalue": "'db4' object has no attribute '__is_decimated__'",
     "output_type": "error",
     "traceback": [
      "\u001b[0;31m---------------------------------------------------------------------------\u001b[0m",
      "\u001b[0;31mAttributeError\u001b[0m                            Traceback (most recent call last)",
      "\u001b[0;32m<ipython-input-11-e03b1e7a2058>\u001b[0m in \u001b[0;36m<module>\u001b[0;34m\u001b[0m\n\u001b[1;32m     11\u001b[0m     \u001b[0mverbose\u001b[0m\u001b[0;34m=\u001b[0m\u001b[0;36m1\u001b[0m\u001b[0;34m,\u001b[0m\u001b[0;34m\u001b[0m\u001b[0;34m\u001b[0m\u001b[0m\n\u001b[1;32m     12\u001b[0m     \u001b[0mmetrics\u001b[0m\u001b[0;34m=\u001b[0m\u001b[0mmetrics_\u001b[0m\u001b[0;34m,\u001b[0m\u001b[0;34m\u001b[0m\u001b[0;34m\u001b[0m\u001b[0m\n\u001b[0;32m---> 13\u001b[0;31m     \u001b[0mmetric_call_period\u001b[0m\u001b[0;34m=\u001b[0m\u001b[0;36m20\u001b[0m\u001b[0;34m,\u001b[0m\u001b[0;34m\u001b[0m\u001b[0;34m\u001b[0m\u001b[0m\n\u001b[0m\u001b[1;32m     14\u001b[0m )\n\u001b[1;32m     15\u001b[0m \u001b[0mimage_rec\u001b[0m \u001b[0;34m=\u001b[0m \u001b[0mpysap\u001b[0m\u001b[0;34m.\u001b[0m\u001b[0mImage\u001b[0m\u001b[0;34m(\u001b[0m\u001b[0mdata\u001b[0m\u001b[0;34m=\u001b[0m\u001b[0mnp\u001b[0m\u001b[0;34m.\u001b[0m\u001b[0mabs\u001b[0m\u001b[0;34m(\u001b[0m\u001b[0mx_final\u001b[0m\u001b[0;34m)\u001b[0m\u001b[0;34m)\u001b[0m\u001b[0;34m\u001b[0m\u001b[0;34m\u001b[0m\u001b[0m\n",
      "\u001b[0;32m~/workspace/pysap-mri/mri/numerics/reconstruct.py\u001b[0m in \u001b[0;36msparse_rec_fista\u001b[0;34m(gradient_op, linear_op, prox_op, cost_op, mu, lambda_init, max_nb_of_iter, metric_call_period, metrics, verbose, **lambda_update_params)\u001b[0m\n\u001b[1;32m     84\u001b[0m     \u001b[0;31m# Check inputs\u001b[0m\u001b[0;34m\u001b[0m\u001b[0;34m\u001b[0m\u001b[0;34m\u001b[0m\u001b[0m\n\u001b[1;32m     85\u001b[0m     \u001b[0mstart\u001b[0m \u001b[0;34m=\u001b[0m \u001b[0mtime\u001b[0m\u001b[0;34m.\u001b[0m\u001b[0mclock\u001b[0m\u001b[0;34m(\u001b[0m\u001b[0;34m)\u001b[0m\u001b[0;34m\u001b[0m\u001b[0;34m\u001b[0m\u001b[0m\n\u001b[0;32m---> 86\u001b[0;31m     \u001b[0;32mif\u001b[0m \u001b[0;32mnot\u001b[0m \u001b[0mlinear_op\u001b[0m\u001b[0;34m.\u001b[0m\u001b[0mtransform\u001b[0m\u001b[0;34m.\u001b[0m\u001b[0m__is_decimated__\u001b[0m\u001b[0;34m:\u001b[0m\u001b[0;34m\u001b[0m\u001b[0;34m\u001b[0m\u001b[0m\n\u001b[0m\u001b[1;32m     87\u001b[0m         warnings.warn(\"Undecimated wavelets shouldn't be used with FISTA: \"\n\u001b[1;32m     88\u001b[0m                       \"non optimal solution.\")\n",
      "\u001b[0;31mAttributeError\u001b[0m: 'db4' object has no attribute '__is_decimated__'"
     ]
    }
   ],
   "source": [
    "# Start the FISTA reconstruction\n",
    "cost_op = None\n",
    "x_final, transform, costs, metrics = sparse_rec_fista(\n",
    "    gradient_op,\n",
    "    linear_op,\n",
    "    prox_op,\n",
    "    cost_op,\n",
    "    mu=mu,\n",
    "    lambda_init=1.0,\n",
    "    max_nb_of_iter=max_iter,\n",
    "    verbose=1,\n",
    "    metrics=metrics_,\n",
    "    metric_call_period=20,\n",
    ")\n",
    "image_rec = pysap.Image(data=np.abs(x_final))"
   ]
  },
  {
   "cell_type": "code",
   "execution_count": null,
   "metadata": {},
   "outputs": [],
   "source": [
    "if convergence_pot:\n",
    "    opt_results[mu] = {\n",
    "        \"nrmse\": metrics['nrmse']['values'][-1],\n",
    "        \"cost\": metrics['cost']['values'][-1],\n",
    "    }\n",
    "    print(opt_results)"
   ]
  },
  {
   "cell_type": "code",
   "execution_count": null,
   "metadata": {},
   "outputs": [],
   "source": [
    "max_iter = 3"
   ]
  },
  {
   "cell_type": "code",
   "execution_count": null,
   "metadata": {},
   "outputs": [],
   "source": [
    "# FISTA rec\n",
    "params = {\n",
    "    r\"FISTA-BT\": ({}, \"black\"),\n",
    "    r\"FISTA-CD, $a = 20$\": ({\"a_cd\": 20}, \"blue\"),    \n",
    "    r\"Rada-FISTA\": (\n",
    "        {\"p_lazy\": (1/30), \"q_lazy\": (1/10), \"restart_strategy\": \"adaptive\", \"xi_restart\": 0.96}, \n",
    "        \"orange\",\n",
    "    ),\n",
    "    r\"greedy FISTA\": (\n",
    "        {\"restart_strategy\": \"greedy\", \"xi_restart\": 0.96, \"s_greedy\": 1.1}, \n",
    "        \"violet\",\n",
    "    ),\n",
    "}\n",
    "\n",
    "res_param = {}\n",
    "for param_name, (param, _) in tqdm_notebook(params.items()):\n",
    "    _, _, _, metrics = sparse_rec_fista(\n",
    "        gradient_op,\n",
    "        linear_op,\n",
    "        prox_op,\n",
    "        None,\n",
    "        mu=mu,\n",
    "        lambda_init=1.0,\n",
    "        max_nb_of_iter=max_iter,\n",
    "        verbose=0,\n",
    "        metrics=metrics_,\n",
    "        metric_call_period=1,\n",
    "        **param,\n",
    "    )\n",
    "    res_param[param_name] = {\n",
    "        \"cost\": np.array(metrics['cost']['values']),\n",
    "        \"nrmse\": np.array(metrics['nrmse']['values']),\n",
    "    }\n",
    "\n",
    "# POGM rec\n",
    "pogm_name = r\"POGM'\"\n",
    "params[pogm_name] = (None, \"red\")\n",
    "\n",
    "_, _, _, metrics = sparse_rec_pogm(\n",
    "    gradient_op,\n",
    "    linear_op,\n",
    "    prox_op,\n",
    "    mu=mu,\n",
    "    max_nb_of_iter=max_iter,\n",
    "    verbose=0,\n",
    "    metrics=metrics_,\n",
    "    metric_call_period=1,\n",
    ")\n",
    "res_param[pogm_name] = {\n",
    "    \"cost\": np.array(metrics['cost']['values']),\n",
    "    \"nrmse\": np.array(metrics['nrmse']['values']),\n",
    "}"
   ]
  },
  {
   "cell_type": "code",
   "execution_count": null,
   "metadata": {},
   "outputs": [],
   "source": [
    "sparse_rec_pogm"
   ]
  },
  {
   "cell_type": "code",
   "execution_count": null,
   "metadata": {
    "scrolled": false
   },
   "outputs": [],
   "source": [
    "metric_name = \"cost\"\n",
    "plt.figure(figsize=(9, 5))\n",
    "for param_name, param_res in res_param.items():\n",
    "    plt.plot(\n",
    "        np.log10(np.abs(np.array(param_res[metric_name] - opt_results[mu][metric_name]))), \n",
    "        label=param_name, \n",
    "        color=params[param_name][1],\n",
    "    )\n",
    "plt.legend()\n",
    "plt.title(r\"Cost evolution for different restarting strategies\")\n",
    "plt.xlabel(r\"$k$\")\n",
    "plt.ylabel(r\"$\\log_{10}($cost$(k) -$ cost$*)$\")"
   ]
  },
  {
   "cell_type": "code",
   "execution_count": null,
   "metadata": {},
   "outputs": [],
   "source": []
  }
 ],
 "metadata": {
  "kernelspec": {
   "display_name": "Python 3",
   "language": "python",
   "name": "python3"
  },
  "language_info": {
   "codemirror_mode": {
    "name": "ipython",
    "version": 3
   },
   "file_extension": ".py",
   "mimetype": "text/x-python",
   "name": "python",
   "nbconvert_exporter": "python",
   "pygments_lexer": "ipython3",
   "version": "3.6.7"
  }
 },
 "nbformat": 4,
 "nbformat_minor": 2
}
